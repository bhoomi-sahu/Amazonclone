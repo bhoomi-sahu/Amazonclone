{
  "nbformat": 4,
  "nbformat_minor": 0,
  "metadata": {
    "colab": {
      "provenance": [],
      "authorship_tag": "ABX9TyM6T5dRUjFdyaktOPr+XTDc",
      "include_colab_link": true
    },
    "kernelspec": {
      "name": "python3",
      "display_name": "Python 3"
    },
    "language_info": {
      "name": "python"
    }
  },
  "cells": [
    {
      "cell_type": "markdown",
      "metadata": {
        "id": "view-in-github",
        "colab_type": "text"
      },
      "source": [
        "<a href=\"https://colab.research.google.com/github/bhoomi-sahu/Amazonclone/blob/main/Untitled1.ipynb\" target=\"_parent\"><img src=\"https://colab.research.google.com/assets/colab-badge.svg\" alt=\"Open In Colab\"/></a>"
      ]
    },
    {
      "cell_type": "code",
      "execution_count": 1,
      "metadata": {
        "colab": {
          "base_uri": "https://localhost:8080/"
        },
        "id": "Vs4BWIKc93ao",
        "outputId": "557bf681-44c5-402e-ad4b-77ddbb4f9aa1"
      },
      "outputs": [
        {
          "output_type": "stream",
          "name": "stdout",
          "text": [
            "hello world\n"
          ]
        }
      ],
      "source": [
        "print('hello world')"
      ]
    },
    {
      "cell_type": "code",
      "source": [
        "num = int(input(\"enter an integer:\"))\n",
        "if num % 2 == 0:\n",
        "   print(f\"{num}is even.\")\n",
        "else:\n",
        "  print(f\"{num} is odd.\")"
      ],
      "metadata": {
        "colab": {
          "base_uri": "https://localhost:8080/"
        },
        "id": "vKYRp9VD-1j1",
        "outputId": "5fc7380c-ab20-4448-865f-dabdd3153c29"
      },
      "execution_count": 2,
      "outputs": [
        {
          "output_type": "stream",
          "name": "stdout",
          "text": [
            "enter an integer:5\n",
            "5 is odd.\n"
          ]
        }
      ]
    },
    {
      "cell_type": "code",
      "source": [
        "num = int(input(\"enter a positive integer:\"))\n",
        "for i in range(1, 11):\n",
        "       print(num,\"*\",i,\"=\",num*i)"
      ],
      "metadata": {
        "colab": {
          "base_uri": "https://localhost:8080/"
        },
        "id": "riiOS9MH_ZFr",
        "outputId": "e5a226c7-9d9e-486a-b292-f631a9278f98"
      },
      "execution_count": 4,
      "outputs": [
        {
          "output_type": "stream",
          "name": "stdout",
          "text": [
            "enter a positive integer:5\n",
            "5 * 1 = 5\n",
            "5 * 2 = 10\n",
            "5 * 3 = 15\n",
            "5 * 4 = 20\n",
            "5 * 5 = 25\n",
            "5 * 6 = 30\n",
            "5 * 7 = 35\n",
            "5 * 8 = 40\n",
            "5 * 9 = 45\n",
            "5 * 10 = 50\n"
          ]
        }
      ]
    },
    {
      "cell_type": "code",
      "source": [
        "num = int(input(\"enter a positive number:\"))\n",
        "sum_total = 0\n",
        "i = 1\n",
        "\n",
        "while i <= num:\n",
        "  sum_total += i\n",
        "  i += 1\n",
        "\n",
        "  print(\"sum:\", sum_total)"
      ],
      "metadata": {
        "colab": {
          "base_uri": "https://localhost:8080/"
        },
        "id": "YlcjAhPM_1_q",
        "outputId": "6a72202a-447b-4e4c-f7bb-4ab95ef97119"
      },
      "execution_count": 5,
      "outputs": [
        {
          "output_type": "stream",
          "name": "stdout",
          "text": [
            "enter a positive number:5\n",
            "sum: 1\n",
            "sum: 3\n",
            "sum: 6\n",
            "sum: 10\n",
            "sum: 15\n"
          ]
        }
      ]
    },
    {
      "cell_type": "code",
      "source": [
        "numbers = [10,23,45,66,75,90,100]\n",
        "\n",
        "for num in numbers:\n",
        "  if num % 5 == 0:\n",
        "    print(num)"
      ],
      "metadata": {
        "colab": {
          "base_uri": "https://localhost:8080/"
        },
        "id": "bmeHpEEdAdYz",
        "outputId": "7b6ad35e-6ec5-4d9a-df6b-89eb2dd35f6d"
      },
      "execution_count": 6,
      "outputs": [
        {
          "output_type": "stream",
          "name": "stdout",
          "text": [
            "10\n",
            "45\n",
            "75\n",
            "90\n",
            "100\n"
          ]
        }
      ]
    },
    {
      "cell_type": "code",
      "source": [
        "while True:\n",
        "  num = int(input(\"enetr a numer(0 to exit):\"))\n",
        "\n",
        "  if num == 0:\n",
        "    break\n",
        "    print(f\"you entered: {num}\")"
      ],
      "metadata": {
        "colab": {
          "base_uri": "https://localhost:8080/"
        },
        "id": "G8HEOx2IA3py",
        "outputId": "de65ac9b-2792-4943-8379-52eb6dfe06d0"
      },
      "execution_count": 7,
      "outputs": [
        {
          "name": "stdout",
          "output_type": "stream",
          "text": [
            "enetr a numer(0 to exit):5\n",
            "enetr a numer(0 to exit):6\n",
            "enetr a numer(0 to exit):0\n"
          ]
        }
      ]
    }
  ]
}